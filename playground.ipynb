{
 "cells": [
  {
   "cell_type": "code",
   "execution_count": null,
   "metadata": {},
   "outputs": [],
   "source": [
    "%pip list"
   ]
  },
  {
   "cell_type": "code",
   "execution_count": null,
   "metadata": {},
   "outputs": [],
   "source": [
    "%ls"
   ]
  },
  {
   "cell_type": "code",
   "execution_count": null,
   "metadata": {},
   "outputs": [],
   "source": [
    "%pbpaste | fabric --pattern extract_wisdom --stream"
   ]
  },
  {
   "cell_type": "code",
   "execution_count": null,
   "metadata": {},
   "outputs": [],
   "source": [
    "# Direct Input\n",
    "# content = \"\"\"<paste your content here>\"\"\"\n",
    "# !echo \"{content}\" | fabric --pattern extract_wisdom --stream\n",
    "\n",
    "# File Input\n",
    "with open('input.txt', 'w') as file:\n",
    "    file.write(\"The asnwers to life is... 42!\")\n",
    "\n",
    "# !fabric --pattern extract_wisdom --stream < input.txt\n",
    "# !fabric --pattern create_single_sentence_summation --stream < input.txt\n",
    "\n",
    "\n",
    "output = !fabric --pattern create_single_sentence_summation < input.txt\n",
    "\n",
    "print(output)\n"
   ]
  },
  {
   "cell_type": "code",
   "execution_count": null,
   "metadata": {},
   "outputs": [],
   "source": [
    "\n",
    "output = !fabric --pattern create_single_sentence_summation < input.txt\n",
    "\n",
    "print(output)"
   ]
  },
  {
   "cell_type": "code",
   "execution_count": 17,
   "metadata": {},
   "outputs": [
    {
     "name": "stdout",
     "output_type": "stream",
     "text": [
      "['{', '    \"Topic\": \"Automating data quality automation\",', '    \"Story\": \"As a user, I want to automate data quality checks so that I can ensure data accuracy and reliability.\",', '    \"Criteria\": \"Given that I am a user, when I select the \\'Automate Data Quality\\' option, then I should be able to choose the data sources to apply the checks on. After selecting the data sources and specifying the types of checks, when I click the \\'Run Checks\\' button, then the system should automatically perform the specified data quality checks and provide a report on the findings.\"', '}']\n",
      "{\n",
      "    \"Topic\": \"Automating data quality automation\",\n",
      "    \"Story\": \"As a user, I want to automate data quality checks so that I can ensure data accuracy and reliability.\",\n",
      "    \"Criteria\": \"Given that I am a user, when I select the 'Automate Data Quality' option, then I should be able to choose the data sources to apply the checks on. After selecting the data sources and specifying the types of checks, when I click the 'Run Checks' button, then the system should automatically perform the specified data quality checks and provide a report on the findings.\"\n",
      "}\n"
     ]
    }
   ],
   "source": [
    "print(output)\n",
    "\n",
    "\n",
    "# Convert list to string\n",
    "output_string = '\\n'.join(output)\n",
    "\n",
    "# Print the string\n",
    "print(output_string)\n",
    "\n",
    "# Write the string to a file\n",
    "with open('output.txt', 'w') as file:\n",
    "    file.write(output_string)"
   ]
  }
 ],
 "metadata": {
  "kernelspec": {
   "display_name": ".venv",
   "language": "python",
   "name": "python3"
  },
  "language_info": {
   "codemirror_mode": {
    "name": "ipython",
    "version": 3
   },
   "file_extension": ".py",
   "mimetype": "text/x-python",
   "name": "python",
   "nbconvert_exporter": "python",
   "pygments_lexer": "ipython3",
   "version": "3.10.2"
  }
 },
 "nbformat": 4,
 "nbformat_minor": 2
}
